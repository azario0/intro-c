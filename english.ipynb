{
 "cells": [
  {
   "cell_type": "markdown",
   "metadata": {},
   "source": [
    "# Data Types\n",
    "### C supports various data types, including basic types <br>(e.g., int, float, char) and derived types (e.g., arrays, pointers)."
   ]
  },
  {
   "cell_type": "code",
   "execution_count": 1,
   "metadata": {},
   "outputs": [
    {
     "name": "stdout",
     "output_type": "stream",
     "text": [
      "Overwriting fr/datatypes.c\n"
     ]
    }
   ],
   "source": [
    "%%file fr/datatypes.c\n",
    "\n",
    "#include <stdio.h>\n",
    "\n",
    "int main() {\n",
    "    int age = 25;               // Integer\n",
    "    float height = 5.9;         // Floating-point number\n",
    "    char grade = 'A';           // Single character\n",
    "    double pi = 3.1415926535;   // Double-precision floating-point number\n",
    "\n",
    "    printf(\"Age: %d\\n\", age);\n",
    "    printf(\"Height: %.2f\\n\", height);\n",
    "    printf(\"Grade: %c\\n\", grade);\n",
    "    printf(\"Pi: %.10f\\n\", pi);\n",
    "\n",
    "    return 0;\n",
    "}"
   ]
  },
  {
   "cell_type": "code",
   "execution_count": 2,
   "metadata": {},
   "outputs": [
    {
     "name": "stdout",
     "output_type": "stream",
     "text": [
      "Age: 25\n",
      "Height: 5.90\n",
      "Grade: A\n",
      "Pi: 3.1415926535\n"
     ]
    }
   ],
   "source": [
    "!gcc -o en/datatypes en/datatypes.c\n",
    "!./en/datatypes"
   ]
  },
  {
   "cell_type": "markdown",
   "metadata": {},
   "source": [
    "# Strings\n",
    "### Strings in C are null-terminated arrays of characters."
   ]
  },
  {
   "cell_type": "code",
   "execution_count": 3,
   "metadata": {},
   "outputs": [
    {
     "name": "stdout",
     "output_type": "stream",
     "text": [
      "Overwriting fr/chaines_de_caracteres.c\n"
     ]
    }
   ],
   "source": [
    "%%file fr/chaines_de_caracteres.c\n",
    "\n",
    "#include <stdio.h>\n",
    "#include <string.h>\n",
    "\n",
    "int main() {\n",
    "    char name[20] = \"John Doe\";\n",
    "\n",
    "    printf(\"Name: %s\\n\", name);\n",
    "\n",
    "    strcpy(name, \"Jane Smith\");\n",
    "    printf(\"Modified Name: %s\\n\", name);\n",
    "\n",
    "    printf(\"Length of Name: %lu\\n\", strlen(name));\n",
    "\n",
    "    return 0;\n",
    "}"
   ]
  },
  {
   "cell_type": "code",
   "execution_count": 4,
   "metadata": {},
   "outputs": [
    {
     "name": "stdout",
     "output_type": "stream",
     "text": [
      "Name: John Doe\n",
      "Modified name: Jane Smith\n",
      "Length of name: 10\n"
     ]
    }
   ],
   "source": [
    "!gcc -o en/strings en/strings.c\n",
    "!./en/strings"
   ]
  },
  {
   "cell_type": "markdown",
   "metadata": {},
   "source": [
    "# Arrays\n",
    "### Arrays are used to store multiple values of the same <br>type in contiguous memory locations."
   ]
  },
  {
   "cell_type": "code",
   "execution_count": 5,
   "metadata": {},
   "outputs": [
    {
     "name": "stdout",
     "output_type": "stream",
     "text": [
      "Overwriting fr/tableaux.c\n"
     ]
    }
   ],
   "source": [
    "%%file fr/tableaux.c\n",
    "\n",
    "#include <stdio.h>\n",
    "\n",
    "int main() {\n",
    "    int numbers[5] = {10, 20, 30, 40, 50};\n",
    "\n",
    "    for (int i = 0; i < 5; i++) {\n",
    "        printf(\"Element %d: %d\\n\", i, numbers[i]);\n",
    "    }\n",
    "\n",
    "    numbers[2] = 35;\n",
    "    printf(\"Element 2 modified: %d\\n\", numbers[2]);\n",
    "\n",
    "    return 0;\n",
    "}"
   ]
  },
  {
   "cell_type": "code",
   "execution_count": 6,
   "metadata": {},
   "outputs": [
    {
     "name": "stdout",
     "output_type": "stream",
     "text": [
      "Element 0: 10\n",
      "Element 1: 20\n",
      "Element 2: 30\n",
      "Element 3: 40\n",
      "Element 4: 50\n",
      "Modified element 2: 35\n"
     ]
    }
   ],
   "source": [
    "!gcc -o en/arrays en/arrays.c\n",
    "!./en/arrays"
   ]
  },
  {
   "cell_type": "markdown",
   "metadata": {},
   "source": [
    "# Functions\n",
    "### Functions are reusable blocks of code that perform <br>specific tasks. They help in modularizing the program."
   ]
  },
  {
   "cell_type": "code",
   "execution_count": 7,
   "metadata": {},
   "outputs": [
    {
     "name": "stdout",
     "output_type": "stream",
     "text": [
      "Overwriting fr/fonctions.c\n"
     ]
    }
   ],
   "source": [
    "%%file fr/fonctions.c\n",
    "\n",
    "#include <stdio.h>\n",
    "\n",
    "int add(int a, int b);\n",
    "\n",
    "int main() {\n",
    "    int x = 10, y = 20;\n",
    "\n",
    "    int result = add(x, y);\n",
    "\n",
    "    printf(\"Sum of %d and %d is %d\\n\", x, y, result);\n",
    "\n",
    "    return 0;\n",
    "}\n",
    "\n",
    "int add(int a, int b) {\n",
    "    return a + b;\n",
    "}"
   ]
  },
  {
   "cell_type": "code",
   "execution_count": 8,
   "metadata": {},
   "outputs": [
    {
     "name": "stdout",
     "output_type": "stream",
     "text": [
      "Sum of 10 and 20 is 30\n"
     ]
    }
   ],
   "source": [
    "!gcc -o en/functions en/functions.c\n",
    "!./en/functions"
   ]
  },
  {
   "cell_type": "markdown",
   "metadata": {},
   "source": [
    "# Pointers\n",
    "### Pointers are variables that store the memory address <br>of another variable. This is a powerful feature in C and <br>is widely used for dynamic memory allocation, passing arguments <br>to functions, and more."
   ]
  },
  {
   "cell_type": "code",
   "execution_count": 9,
   "metadata": {},
   "outputs": [
    {
     "name": "stdout",
     "output_type": "stream",
     "text": [
      "Overwriting fr/pointeurs.c\n"
     ]
    }
   ],
   "source": [
    "%%file fr/pointeurs.c\n",
    "#include <stdio.h>\n",
    "\n",
    "int main() {\n",
    "    int num = 42;              // Normal integer variable\n",
    "    int *ptr;                  // Pointer to an integer\n",
    "\n",
    "    ptr = &num;                // Assign the address of 'num' to the pointer\n",
    "\n",
    "    printf(\"Value of num: %d\\n\", num);\n",
    "    printf(\"Address of num: %p\\n\", &num);\n",
    "    printf(\"Value of ptr: %p\\n\", ptr);\n",
    "    printf(\"Value pointed by ptr: %d\\n\", *ptr);\n",
    "\n",
    "    *ptr = 100;\n",
    "    printf(\"New value of num: %d\\n\", num);\n",
    "\n",
    "    return 0;\n",
    "}"
   ]
  },
  {
   "cell_type": "code",
   "execution_count": 10,
   "metadata": {},
   "outputs": [
    {
     "name": "stdout",
     "output_type": "stream",
     "text": [
      "Value of num: 42\n",
      "Address of num: 0x7ffec3b187dc\n",
      "Value of ptr: 0x7ffec3b187dc\n",
      "Value pointed by ptr: 42\n",
      "New value of num: 100\n"
     ]
    }
   ],
   "source": [
    "!gcc -o en/pointers en/pointers.c\n",
    "!./en/pointers"
   ]
  },
  {
   "cell_type": "code",
   "execution_count": null,
   "metadata": {},
   "outputs": [],
   "source": []
  }
 ],
 "metadata": {
  "kernelspec": {
   "display_name": "Python 3",
   "language": "python",
   "name": "python3"
  },
  "language_info": {
   "codemirror_mode": {
    "name": "ipython",
    "version": 3
   },
   "file_extension": ".py",
   "mimetype": "text/x-python",
   "name": "python",
   "nbconvert_exporter": "python",
   "pygments_lexer": "ipython3",
   "version": "3.10.12"
  }
 },
 "nbformat": 4,
 "nbformat_minor": 2
}
