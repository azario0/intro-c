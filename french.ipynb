{
 "cells": [
  {
   "cell_type": "markdown",
   "metadata": {},
   "source": [
    "# Les datatypes \n",
    "### C supporte divers types de données, y compris les types de base (par exemple, int, float, char) et les types dérivés (par exemple, tableaux, pointeurs)."
   ]
  },
  {
   "cell_type": "code",
   "execution_count": 20,
   "metadata": {},
   "outputs": [
    {
     "name": "stdout",
     "output_type": "stream",
     "text": [
      "Overwriting fr/datatypes.c\n"
     ]
    }
   ],
   "source": [
    "%%file fr/datatypes.c\n",
    "\n",
    "#include <stdio.h>\n",
    "\n",
    "int main() {\n",
    "    int age = 25;               // Entier\n",
    "    float height = 5.9;         // Nombre à virgule flottante\n",
    "    char grade = 'A';           // Caractère unique\n",
    "    double pi = 3.1415926535;   // Nombre à virgule flottante en double précision\n",
    "\n",
    "    printf(\"Age: %d\\n\", age);\n",
    "    printf(\"Height: %.2f\\n\", height);\n",
    "    printf(\"Grade: %c\\n\", grade);\n",
    "    printf(\"Pi: %.10f\\n\", pi);\n",
    "\n",
    "    return 0;\n",
    "}"
   ]
  },
  {
   "cell_type": "code",
   "execution_count": 21,
   "metadata": {},
   "outputs": [
    {
     "name": "stdout",
     "output_type": "stream",
     "text": [
      "Age: 25\n",
      "Height: 5.90\n",
      "Grade: A\n",
      "Pi: 3.1415926535\n"
     ]
    }
   ],
   "source": [
    "!gcc -o fr/datatypes fr/datatypes.c\n",
    "!./fr/datatypes"
   ]
  },
  {
   "cell_type": "markdown",
   "metadata": {},
   "source": [
    "# Les chaines de caracteres\n",
    "### Les chaînes de caractères en C sont des tableaux de caractères terminés par un caractère nul (\\0)."
   ]
  },
  {
   "cell_type": "code",
   "execution_count": 28,
   "metadata": {},
   "outputs": [
    {
     "name": "stdout",
     "output_type": "stream",
     "text": [
      "Overwriting fr/chaines_de_caracteres.c\n"
     ]
    }
   ],
   "source": [
    "%%file fr/chaines_de_caracteres.c\n",
    "\n",
    "#include <stdio.h>\n",
    "#include <string.h>\n",
    "\n",
    "int main() {\n",
    "    char name[20] = \"John Doe\";\n",
    "\n",
    "    printf(\"Nom: %s\\n\", name);\n",
    "\n",
    "    strcpy(name, \"Jane Smith\");\n",
    "    printf(\"Nom modifié: %s\\n\", name);\n",
    "\n",
    "    printf(\"Longueur du nom: %lu\\n\", strlen(name));\n",
    "\n",
    "    return 0;\n",
    "}"
   ]
  },
  {
   "cell_type": "code",
   "execution_count": 29,
   "metadata": {},
   "outputs": [
    {
     "name": "stdout",
     "output_type": "stream",
     "text": [
      "Nom: John Doe\n",
      "Nom modifié: Jane Smith\n",
      "Longueur du nom: 10\n"
     ]
    }
   ],
   "source": [
    "!gcc -o fr/chaines_de_caracteres fr/chaines_de_caracteres.c\n",
    "!./fr/chaines_de_caracteres"
   ]
  },
  {
   "cell_type": "markdown",
   "metadata": {},
   "source": [
    "# Les tableaux\n",
    "### Les tableaux sont utilisés pour stocker plusieurs valeurs du même type dans des emplacements mémoire contigus."
   ]
  },
  {
   "cell_type": "code",
   "execution_count": 30,
   "metadata": {},
   "outputs": [
    {
     "name": "stdout",
     "output_type": "stream",
     "text": [
      "Overwriting fr/tableaux.c\n"
     ]
    }
   ],
   "source": [
    "%%file fr/tableaux.c\n",
    "\n",
    "#include <stdio.h>\n",
    "\n",
    "int main() {\n",
    "    int numbers[5] = {10, 20, 30, 40, 50};\n",
    "\n",
    "    for (int i = 0; i < 5; i++) {\n",
    "        printf(\"Elément %d: %d\\n\", i, numbers[i]);\n",
    "    }\n",
    "\n",
    "    numbers[2] = 35;\n",
    "    printf(\"Elément 2 modifié: %d\\n\", numbers[2]);\n",
    "\n",
    "    return 0;\n",
    "}"
   ]
  },
  {
   "cell_type": "code",
   "execution_count": 31,
   "metadata": {},
   "outputs": [
    {
     "name": "stdout",
     "output_type": "stream",
     "text": [
      "Elément 0: 10\n",
      "Elément 1: 20\n",
      "Elément 2: 30\n",
      "Elément 3: 40\n",
      "Elément 4: 50\n",
      "Elément 2 modifié: 35\n"
     ]
    }
   ],
   "source": [
    "!gcc -o fr/tableaux fr/tableaux.c\n",
    "!./fr/tableaux"
   ]
  },
  {
   "cell_type": "markdown",
   "metadata": {},
   "source": [
    "# Fonctions\n",
    "### Les fonctions sont des blocs réutilisables de code qui exécutent des tâches spécifiques. Elles aident à la modularisation du programme."
   ]
  },
  {
   "cell_type": "code",
   "execution_count": null,
   "metadata": {},
   "outputs": [
    {
     "name": "stdout",
     "output_type": "stream",
     "text": [
      "Overwriting fr/fonctions.c\n"
     ]
    }
   ],
   "source": [
    "%%file fr/fonctions.c\n",
    "\n",
    "#include <stdio.h>\n",
    "\n",
    "int add(int a, int b);\n",
    "\n",
    "int main() {\n",
    "    int x = 10, y = 20;\n",
    "\n",
    "    int result = add(x, y);\n",
    "\n",
    "    printf(\"Somme de %d et %d est %d\\n\", x, y, result);\n",
    "\n",
    "    return 0;\n",
    "}\n",
    "\n",
    "int add(int a, int b) {\n",
    "    return a + b;\n",
    "}"
   ]
  },
  {
   "cell_type": "code",
   "execution_count": 23,
   "metadata": {},
   "outputs": [
    {
     "name": "stdout",
     "output_type": "stream",
     "text": [
      "Somme de 10 et 20 est 30\n"
     ]
    }
   ],
   "source": [
    "!gcc -o fr/fonctions fr/fonctions.c\n",
    "!./fr/fonctions"
   ]
  },
  {
   "cell_type": "markdown",
   "metadata": {},
   "source": [
    "# Les pointeurs\n",
    "### Les pointeurs sont des variables qui stockent l'adresse mémoire d'une autre variable. C'est une fonctionnalité puissante de C et est largement utilisée pour l'allocation dynamique de mémoire, la transmission d'arguments aux fonctions, et plus encore.\n"
   ]
  },
  {
   "cell_type": "code",
   "execution_count": 33,
   "metadata": {},
   "outputs": [
    {
     "name": "stdout",
     "output_type": "stream",
     "text": [
      "Overwriting fr/pointeurs.c\n"
     ]
    }
   ],
   "source": [
    "%%file fr/pointeurs.c\n",
    "#include <stdio.h>\n",
    "\n",
    "int main() {\n",
    "    int num = 42;              // Variable entière normale\n",
    "    int *ptr;                  // Pointeur vers un entier\n",
    "\n",
    "    ptr = &num;                // Assigner l'adresse de 'num' au pointeur\n",
    "\n",
    "    printf(\"Valeur de num: %d\\n\", num);\n",
    "    printf(\"Adresse de num: %p\\n\", &num);\n",
    "    printf(\"Valeur de ptr: %p\\n\", ptr);\n",
    "    printf(\"Valeur pointée par ptr: %d\\n\", *ptr);\n",
    "\n",
    "    *ptr = 100;\n",
    "    printf(\"Nouvelle valeur de num: %d\\n\", num);\n",
    "\n",
    "    return 0;\n",
    "}"
   ]
  },
  {
   "cell_type": "code",
   "execution_count": 34,
   "metadata": {},
   "outputs": [
    {
     "name": "stdout",
     "output_type": "stream",
     "text": [
      "Valeur de num: 42\n",
      "Adresse de num: 0x7ffc4f329a3c\n",
      "Valeur de ptr: 0x7ffc4f329a3c\n",
      "Valeur pointée par ptr: 42\n",
      "Nouvelle valeur de num: 100\n"
     ]
    }
   ],
   "source": [
    "!gcc -o fr/pointeurs fr/pointeurs.c\n",
    "!./fr/pointeurs"
   ]
  },
  {
   "cell_type": "code",
   "execution_count": null,
   "metadata": {},
   "outputs": [],
   "source": []
  }
 ],
 "metadata": {
  "kernelspec": {
   "display_name": "Python 3",
   "language": "python",
   "name": "python3"
  },
  "language_info": {
   "codemirror_mode": {
    "name": "ipython",
    "version": 3
   },
   "file_extension": ".py",
   "mimetype": "text/x-python",
   "name": "python",
   "nbconvert_exporter": "python",
   "pygments_lexer": "ipython3",
   "version": "3.10.12"
  }
 },
 "nbformat": 4,
 "nbformat_minor": 2
}
